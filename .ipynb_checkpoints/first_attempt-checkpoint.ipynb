{
 "metadata": {
  "name": "",
  "signature": "sha256:01980f9dcd5e08ee7ec324982dc757ba6d2144e7b1c839f43109cafbad7cbb3b"
 },
 "nbformat": 3,
 "nbformat_minor": 0,
 "worksheets": []
}